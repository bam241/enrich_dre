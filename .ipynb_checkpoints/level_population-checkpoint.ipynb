{
 "cells": [
  {
   "cell_type": "code",
   "execution_count": 1,
   "metadata": {},
   "outputs": [],
   "source": [
    "import sys \n",
    "import os\n",
    "sys.path.append(os.path.abspath(\"/Users/mouginot/work/helpmetric\"))\n",
    "import mytool as mt\n",
    "import numpy as np"
   ]
  },
  {
   "cell_type": "markdown",
   "metadata": {},
   "source": [
    " Case 1 NR:\n",
    " * Feed Assay: 22.7931\n",
    " * Product Assay: 78.5409\n",
    " * Tails Assay: 15.9527\n",
    " \n",
    " * Feed Assay: 4.12842\n",
    " * Product Assay: 22.7931\n",
    " * Tails Assay: 1.8382\n",
    "\n",
    "\n",
    " * Feed Assay: 0.71\n",
    " * Product Assay: 4.12842\n",
    " * Tails Assay: 0.290548\n"
   ]
  },
  {
   "cell_type": "code",
   "execution_count": 5,
   "metadata": {},
   "outputs": [
    {
     "name": "stdout",
     "output_type": "stream",
     "text": [
      "virtual cut 0.10929216689407907\n",
      "26.72504806197808\n",
      "2.9208384130419924\n",
      "0.31922475930882255\n",
      "0.03488876567110205\n"
     ]
    }
   ],
   "source": [
    "#Case 1 no recycling\n",
    "T = 15.9527\n",
    "P = 78.5409\n",
    "F = 22.7931\n",
    "\n",
    "v = (T-F)/(T-P)\n",
    "print(\"virtual cut\", v)\n",
    "cut = [v, v, v, v]\n",
    "\n",
    "flow = mt.calc_feed_flows_no_back(4, 0, 1, cut)\n",
    "tot = np.sum(flow)\n",
    "cent_per_unit = 30/tot\n",
    "for flow_ in flow:\n",
    "    print(cent_per_unit*flow_)"
   ]
  },
  {
   "cell_type": "markdown",
   "metadata": {},
   "source": [
    " Case 1 R:\n",
    " * Feed Assay: 1.33793\n",
    " * Product Assay: 7.71256\n",
    " * Tails Assay: 0.555738\n",
    "\n",
    " * Feed Assay: 11.935\n",
    " * Product Assay: 55.7215\n",
    " * Tails Assay: 6.56228\n",
    "\n",
    " * Feed Assay: 55.7214\n",
    " * Product Assay: 95.0027\n",
    " * Tails Assay: 50.9015\n",
    "\n"
   ]
  },
  {
   "cell_type": "code",
   "execution_count": 8,
   "metadata": {},
   "outputs": [
    {
     "name": "stdout",
     "output_type": "stream",
     "text": [
      "virtual cut 0.1092932030445916\n",
      "26.447717832750175\n",
      "3.2022932778278546\n",
      "0.34998888942197054\n"
     ]
    }
   ],
   "source": [
    "#Case 1 no recycling\n",
    "T = 0.555738\n",
    "P = 7.71256\n",
    "F = 1.33793\n",
    "\n",
    "v = (T-F)/(T-P)\n",
    "print(\"virtual cut\", v)\n",
    "cut = [v, v, v]\n",
    "\n",
    "flow = mt.calc_feed_flows(3, 0, 1, cut)\n",
    "tot = np.sum(flow)\n",
    "cent_per_unit = 30/tot\n",
    "for flow_ in flow:\n",
    "    print(cent_per_unit*flow_)"
   ]
  },
  {
   "cell_type": "markdown",
   "metadata": {},
   "source": [
    " Case 2 NR:\n",
    "\n",
    " * Feed Assay: 0.71\n",
    " * Product Assay: 4.12842\n",
    " * Tails Assay: 0.290548\n",
    "\n",
    "\n",
    " * Feed Assay: 4.12842\n",
    " * Product Assay: 20.5921\n",
    " * Tails Assay: 1.72452\n",
    "\n",
    "\n",
    " * Feed Assay: 20.5921\n",
    " * Product Assay: 60.9623\n",
    " * Tails Assay: 9.55737\n",
    "\n",
    "\n",
    " * Feed Assay: 60.9623\n",
    " * Product Assay: 90.3884\n",
    " * Tails Assay: 38.889\n",
    "\n",
    "\n",
    " * Feed Assay: 90.3884\n",
    " * Product Assay: 98.2648\n",
    " * Tails Assay: 79.3055\n",
    "\n"
   ]
  },
  {
   "cell_type": "code",
   "execution_count": 12,
   "metadata": {},
   "outputs": [
    {
     "name": "stdout",
     "output_type": "stream",
     "text": [
      "virtual cut 0.10929285812554455\n",
      "virtual cut 0.1274090264888237\n",
      "virtual cut 0.21466287377494722\n",
      "virtual cut 0.42861276053701586\n",
      "26.63808901423865\n",
      "2.9113528833688114\n",
      "0.37093263663545023\n",
      "0.07962546575708401\n"
     ]
    }
   ],
   "source": [
    "#Case 2 no recycling\n",
    "F = 0.71\n",
    "P = 4.12842\n",
    "T = 0.290548\n",
    "\n",
    "v_0 = (T-F)/(T-P)\n",
    "print(\"virtual cut\", v_0)\n",
    "\n",
    "\n",
    "F = 4.12842\n",
    "P = 20.5921\n",
    "T = 1.72452\n",
    "\n",
    "v_1 = (T-F)/(T-P)\n",
    "print(\"virtual cut\", v_1)\n",
    "\n",
    "F = 20.5921\n",
    "P = 60.9623\n",
    "T = 9.55737\n",
    "\n",
    "v_2 = (T-F)/(T-P)\n",
    "print(\"virtual cut\", v_2)\n",
    "\n",
    "F = 60.9623\n",
    "P = 90.3884\n",
    "T = 38.889\n",
    "\n",
    "v_3 = (T-F)/(T-P)\n",
    "print(\"virtual cut\", v_3)\n",
    "\n",
    "cut = [v_0, v_1, v_2, v_3]\n",
    "\n",
    "flow = mt.calc_feed_flows_no_back(4, 0, 1, cut)\n",
    "tot = np.sum(flow)\n",
    "cent_per_unit = 30/tot\n",
    "for flow_ in flow:\n",
    "    print(cent_per_unit*flow_)"
   ]
  },
  {
   "cell_type": "markdown",
   "metadata": {},
   "source": [
    " Case 2 R:\n",
    "\n",
    " \n",
    " * Feed Assay: 0.944612\n",
    " * Product Assay: 5.43084\n",
    " * Tails Assay: 0.387098\n",
    " \n",
    " \n",
    " * Feed Assay: 75.8328\n",
    " * Product Assay: 94.9739\n",
    " * Tails Assay: 56.1148\n",
    " \n",
    " \n",
    " * Feed Assay: 6.8406\n",
    " * Product Assay: 30.661\n",
    " * Tails Assay: 2.90531\n",
    " \n",
    " \n",
    " * Feed Assay: 34.2565\n",
    " * Product Assay: 75.8328\n",
    " * Tails Assay: 17.5145\n"
   ]
  },
  {
   "cell_type": "code",
   "execution_count": null,
   "metadata": {},
   "outputs": [],
   "source": [
    "#Case 2 recycling\n",
    "F = 0.944612\n",
    "P = 5.43084\n",
    "T = 0.387098\n",
    "\n",
    "v_0 = (T-F)/(T-P)\n",
    "print(\"virtual cut\", v_0)\n",
    "\n",
    "F = 6.8406\n",
    "P = 30.661\n",
    "T = 2.90531\n",
    "\n",
    "\n",
    "\n",
    "v_1 = (T-F)/(T-P)\n",
    "print(\"virtual cut\", v_1)\n",
    "\n",
    "F = 34.2565\n",
    "P = 75.8328\n",
    "T = 17.5145\n",
    "\n",
    "v_2 = (T-F)/(T-P)\n",
    "print(\"virtual cut\", v_2)\n",
    "\n",
    "F = 75.8328\n",
    "P = 94.9739\n",
    "T = 56.1148\n",
    "\n",
    "\n",
    "\n",
    "v_3 = (T-F)/(T-P)\n",
    "print(\"virtual cut\", v_3)\n",
    "\n",
    "cut = [v_0, v_1, v_2, v_3]\n",
    "\n",
    "flow = mt.calc_feed_flows_no_back(4, 0, 1, cut)\n",
    "tot = np.sum(flow)\n",
    "cent_per_unit = 30/tot\n",
    "for flow_ in flow:\n",
    "    print(cent_per_unit*flow_)"
   ]
  }
 ],
 "metadata": {
  "kernelspec": {
   "display_name": "Python 3",
   "language": "python",
   "name": "python3"
  },
  "language_info": {
   "codemirror_mode": {
    "name": "ipython",
    "version": 3
   },
   "file_extension": ".py",
   "mimetype": "text/x-python",
   "name": "python",
   "nbconvert_exporter": "python",
   "pygments_lexer": "ipython3",
   "version": "3.5.5"
  }
 },
 "nbformat": 4,
 "nbformat_minor": 2
}
