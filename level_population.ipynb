{
 "cells": [
  {
   "cell_type": "code",
   "execution_count": 1,
   "metadata": {},
   "outputs": [],
   "source": [
    "import sys \n",
    "import os\n",
    "sys.path.append(os.path.abspath(\"/Users/mouginot/work/helpmetric\"))\n",
    "import mytool as mt\n",
    "import numpy as np"
   ]
  },
  {
   "cell_type": "markdown",
   "metadata": {},
   "source": [
    " Case 1 NR:\n",
    " * Feed Assay: 22.7931\n",
    " * Product Assay: 78.5409\n",
    " * Tails Assay: 15.9527\n",
    " \n",
    " * Feed Assay: 4.12842\n",
    " * Product Assay: 22.7931\n",
    " * Tails Assay: 1.8382\n",
    "\n",
    "\n",
    " * Feed Assay: 0.71\n",
    " * Product Assay: 4.12842\n",
    " * Tails Assay: 0.290548\n"
   ]
  },
  {
   "cell_type": "code",
   "execution_count": 5,
   "metadata": {},
   "outputs": [
    {
     "name": "stdout",
     "output_type": "stream",
     "text": [
      "virtual cut 0.10929216689407907\n",
      "26.72504806197808\n",
      "2.9208384130419924\n",
      "0.31922475930882255\n",
      "0.03488876567110205\n"
     ]
    }
   ],
   "source": [
    "#Case 1 no recycling\n",
    "T = 15.9527\n",
    "P = 78.5409\n",
    "F = 22.7931\n",
    "\n",
    "v = (T-F)/(T-P)\n",
    "print(\"virtual cut\", v)\n",
    "cut = [v, v, v, v]\n",
    "\n",
    "flow = mt.calc_feed_flows_no_back(4, 0, 1, cut)\n",
    "tot = np.sum(flow)\n",
    "cent_per_unit = 30/tot\n",
    "for flow_ in flow:\n",
    "    print(cent_per_unit*flow_)"
   ]
  },
  {
   "cell_type": "code",
   "execution_count": 6,
   "metadata": {},
   "outputs": [
    {
     "name": "stdout",
     "output_type": "stream",
     "text": [
      "virtual cut 0.1092928145684303\n",
      "26.72502871937476\n",
      "2.9208536081626\n",
      "0.31922831177844563\n",
      "0.034889360684194716\n"
     ]
    }
   ],
   "source": [
    "#Case 1 no recycling\n",
    "T = 1.8382\n",
    "P = 22.7931\n",
    "F = 4.12842\n",
    "\n",
    "v = (T-F)/(T-P)\n",
    "print(\"virtual cut\", v)\n",
    "cut = [v, v, v, v]\n",
    "\n",
    "flow = mt.calc_feed_flows_no_back(4, 0, 1, cut)\n",
    "tot = np.sum(flow)\n",
    "cent_per_unit = 30/tot\n",
    "for flow_ in flow:\n",
    "    print(cent_per_unit*flow_)"
   ]
  },
  {
   "cell_type": "code",
   "execution_count": 7,
   "metadata": {},
   "outputs": [
    {
     "name": "stdout",
     "output_type": "stream",
     "text": [
      "virtual cut 0.10929285812554455\n",
      "26.72502741855445\n",
      "2.92085463005736\n",
      "0.31922855068819894\n",
      "0.03488940069998853\n"
     ]
    }
   ],
   "source": [
    "#Case 1 no recycling\n",
    "T = 0.290548\n",
    "P = 4.12842\n",
    "F = 0.71\n",
    "\n",
    "v = (T-F)/(T-P)\n",
    "print(\"virtual cut\", v)\n",
    "cut = [v, v, v, v]\n",
    "\n",
    "flow = mt.calc_feed_flows_no_back(4, 0, 1, cut)\n",
    "tot = np.sum(flow)\n",
    "cent_per_unit = 30/tot\n",
    "for flow_ in flow:\n",
    "    print(cent_per_unit*flow_)"
   ]
  },
  {
   "cell_type": "code",
   "execution_count": null,
   "metadata": {},
   "outputs": [],
   "source": []
  }
 ],
 "metadata": {
  "kernelspec": {
   "display_name": "Python 3",
   "language": "python",
   "name": "python3"
  },
  "language_info": {
   "codemirror_mode": {
    "name": "ipython",
    "version": 3
   },
   "file_extension": ".py",
   "mimetype": "text/x-python",
   "name": "python",
   "nbconvert_exporter": "python",
   "pygments_lexer": "ipython3",
   "version": "3.5.5"
  }
 },
 "nbformat": 4,
 "nbformat_minor": 2
}
